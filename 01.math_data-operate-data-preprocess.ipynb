{
 "cells": [
  {
   "cell_type": "markdown",
   "id": "07ec75bb",
   "metadata": {},
   "source": [
    "# 数据操作-数据预处理\n",
    "\n",
    "## 一、数据操作实现\n",
    "\n",
    "### 1.1 什么是张量\n",
    "张量（tensor）是PyTorch中的基本数据结构，它是一个多维数组。张量可以是向量（一维）、矩阵（二维）或更高维度的数组。在PyTorch中，张量可以用来表示和处理各种数据，包括图像、文本、声音等。在代码中，x是一个向量，也是一个张量。\n",
    "\n",
    "### 1.2 张量的创建"
   ]
  },
  {
   "cell_type": "code",
   "execution_count": 1,
   "id": "cedad9ac",
   "metadata": {},
   "outputs": [
    {
     "data": {
      "text/plain": [
       "tensor([ 0,  1,  2,  3,  4,  5,  6,  7,  8,  9, 10, 11])"
      ]
     },
     "execution_count": 1,
     "metadata": {},
     "output_type": "execute_result"
    }
   ],
   "source": [
    "# 导入torch\n",
    "import torch\n",
    "# 创建一个向量，在PyTorch中，向量是一维的张量\n",
    "x = torch.arange(12)\n",
    "# 访问创建的向量\n",
    "x"
   ]
  },
  {
   "cell_type": "code",
   "execution_count": 3,
   "id": "9446583e",
   "metadata": {},
   "outputs": [
    {
     "data": {
      "text/plain": [
       "torch.Size([12])"
      ]
     },
     "execution_count": 3,
     "metadata": {},
     "output_type": "execute_result"
    }
   ],
   "source": [
    "# 使用shape属性来访问张量的形状\n",
    "x.shape"
   ]
  },
  {
   "cell_type": "code",
   "execution_count": 6,
   "id": "24c86a56",
   "metadata": {},
   "outputs": [
    {
     "data": {
      "text/plain": [
       "12"
      ]
     },
     "execution_count": 6,
     "metadata": {},
     "output_type": "execute_result"
    }
   ],
   "source": [
    "# 使用numel()函数查看张量的元素总个数\n",
    "x.numel()"
   ]
  },
  {
   "cell_type": "markdown",
   "id": "6e992ffc",
   "metadata": {},
   "source": [
    "要改变张量的形状而不改变其元素数量和元素值，可以调用reshape函数"
   ]
  },
  {
   "cell_type": "code",
   "execution_count": 7,
   "id": "51a74d39",
   "metadata": {},
   "outputs": [
    {
     "data": {
      "text/plain": [
       "tensor([[ 0,  1,  2,  3],\n",
       "        [ 4,  5,  6,  7],\n",
       "        [ 8,  9, 10, 11]])"
      ]
     },
     "execution_count": 7,
     "metadata": {},
     "output_type": "execute_result"
    }
   ],
   "source": [
    "# 改变为3行4列的矩阵\n",
    "x.reshape(3, 4)"
   ]
  },
  {
   "cell_type": "code",
   "execution_count": 12,
   "id": "b2497282",
   "metadata": {},
   "outputs": [
    {
     "data": {
      "text/plain": [
       "tensor([[[0., 0., 0., 0.],\n",
       "         [0., 0., 0., 0.],\n",
       "         [0., 0., 0., 0.]],\n",
       "\n",
       "        [[0., 0., 0., 0.],\n",
       "         [0., 0., 0., 0.],\n",
       "         [0., 0., 0., 0.]]])"
      ]
     },
     "execution_count": 12,
     "metadata": {},
     "output_type": "execute_result"
    }
   ],
   "source": [
    "# 创建元素为全0的三维张量，其中第一个维度的大小为2，第二个维度的大小为3，第三个维度的大小为4。\n",
    "torch.zeros((2, 3, 4))"
   ]
  },
  {
   "cell_type": "code",
   "execution_count": 11,
   "id": "e178bb64",
   "metadata": {},
   "outputs": [
    {
     "data": {
      "text/plain": [
       "tensor([[[1., 1., 1., 1.],\n",
       "         [1., 1., 1., 1.],\n",
       "         [1., 1., 1., 1.]],\n",
       "\n",
       "        [[1., 1., 1., 1.],\n",
       "         [1., 1., 1., 1.],\n",
       "         [1., 1., 1., 1.]]])"
      ]
     },
     "execution_count": 11,
     "metadata": {},
     "output_type": "execute_result"
    }
   ],
   "source": [
    "# 也可以创建元素为全1的三维张量\n",
    "torch.ones((2, 3, 4))"
   ]
  },
  {
   "cell_type": "code",
   "execution_count": 14,
   "id": "1dbdb4a5",
   "metadata": {},
   "outputs": [
    {
     "data": {
      "text/plain": [
       "tensor([[2, 1, 4, 3],\n",
       "        [1, 2, 3, 4],\n",
       "        [4, 3, 2, 1]])"
      ]
     },
     "execution_count": 14,
     "metadata": {},
     "output_type": "execute_result"
    }
   ],
   "source": [
    "# 创建一个包含指定值的二维张量\n",
    "torch.tensor([[2, 1, 4, 3], [1, 2, 3, 4], [4, 3, 2, 1]])"
   ]
  },
  {
   "cell_type": "code",
   "execution_count": 15,
   "id": "96634d8d",
   "metadata": {},
   "outputs": [
    {
     "data": {
      "text/plain": [
       "tensor([[[2, 1, 4, 3],\n",
       "         [1, 2, 3, 4],\n",
       "         [4, 3, 2, 1]]])"
      ]
     },
     "execution_count": 15,
     "metadata": {},
     "output_type": "execute_result"
    }
   ],
   "source": [
    "# 创建一个包含指定值的三维张量\n",
    "torch.tensor([[[2, 1, 4, 3], [1, 2, 3, 4], [4, 3, 2, 1]]])"
   ]
  },
  {
   "cell_type": "code",
   "execution_count": 16,
   "id": "8ad87629",
   "metadata": {},
   "outputs": [
    {
     "data": {
      "text/plain": [
       "torch.Size([1, 3, 4])"
      ]
     },
     "execution_count": 16,
     "metadata": {},
     "output_type": "execute_result"
    }
   ],
   "source": [
    "# 查看该三维张量的形状，其中第一个维度的大小为1，第二个维度的大小为3，第三个维度的大小为4。\n",
    "torch.tensor([[[2, 1, 4, 3], [1, 2, 3, 4], [4, 3, 2, 1]]]).shape"
   ]
  },
  {
   "cell_type": "markdown",
   "id": "43e5706d",
   "metadata": {},
   "source": [
    "### 1.3 张量的计算"
   ]
  },
  {
   "cell_type": "markdown",
   "id": "46335f71",
   "metadata": {},
   "source": [
    "常见的标准运算符运算（+、-、*、/、**）都可以被升级为按元素运算。如下"
   ]
  },
  {
   "cell_type": "code",
   "execution_count": 2,
   "id": "d99d9062",
   "metadata": {},
   "outputs": [
    {
     "data": {
      "text/plain": [
       "(tensor([ 3.,  4.,  6., 10.]),\n",
       " tensor([-1.,  0.,  2.,  6.]),\n",
       " tensor([ 2.,  4.,  8., 16.]),\n",
       " tensor([0.5000, 1.0000, 2.0000, 4.0000]),\n",
       " tensor([ 1.,  4., 16., 64.]))"
      ]
     },
     "execution_count": 2,
     "metadata": {},
     "output_type": "execute_result"
    }
   ],
   "source": [
    "x = torch.tensor([1.0, 2, 4, 8])\n",
    "y = torch.tensor([2, 2, 2, 2])\n",
    "\n",
    "# ** 是求幂运算，如 8 ** 2 代表求8的2次方\n",
    "x + y, x - y, x * y, x / y, x ** y"
   ]
  },
  {
   "cell_type": "markdown",
   "id": "060610bf",
   "metadata": {},
   "source": [
    "我们也可以把多个张量放连结到一起"
   ]
  },
  {
   "cell_type": "code",
   "execution_count": 3,
   "id": "d9d3d02e",
   "metadata": {},
   "outputs": [
    {
     "data": {
      "text/plain": [
       "(tensor([[ 0.,  1.,  2.,  3.],\n",
       "         [ 4.,  5.,  6.,  7.],\n",
       "         [ 8.,  9., 10., 11.],\n",
       "         [ 2.,  1.,  4.,  3.],\n",
       "         [ 1.,  2.,  3.,  4.],\n",
       "         [ 4.,  3.,  2.,  1.]]),\n",
       " tensor([[ 0.,  1.,  2.,  3.,  2.,  1.,  4.,  3.],\n",
       "         [ 4.,  5.,  6.,  7.,  1.,  2.,  3.,  4.],\n",
       "         [ 8.,  9., 10., 11.,  4.,  3.,  2.,  1.]]))"
      ]
     },
     "execution_count": 3,
     "metadata": {},
     "output_type": "execute_result"
    }
   ],
   "source": [
    "# 从0到11生成一个长为12的一维张量，然后reshape成3行4列张量\n",
    "X = torch.arange(12, dtype=torch.float32).reshape((3, 4))\n",
    "# y的形状和x一样\n",
    "Y = torch.tensor([[2.0, 1, 4, 3], [1, 2, 3, 4], [4, 3, 2, 1]])\n",
    "# 在第0个纬度合并，在第1个纬度合并\n",
    "torch.cat((X, Y), dim=0), torch.cat((X, Y), dim=1)"
   ]
  },
  {
   "cell_type": "markdown",
   "id": "c4255bdd",
   "metadata": {},
   "source": [
    "可以通过逻辑运算符构建二维张量，例如在以上代码执行之后，执行如下代码，判断 X 是否等于 Y"
   ]
  },
  {
   "cell_type": "code",
   "execution_count": 4,
   "id": "9bf1f361",
   "metadata": {},
   "outputs": [
    {
     "data": {
      "text/plain": [
       "tensor([[False,  True, False,  True],\n",
       "        [False, False, False, False],\n",
       "        [False, False, False, False]])"
      ]
     },
     "execution_count": 4,
     "metadata": {},
     "output_type": "execute_result"
    }
   ],
   "source": [
    "X == Y"
   ]
  },
  {
   "cell_type": "markdown",
   "id": "a43cb5db",
   "metadata": {},
   "source": [
    "对张量中的所有元素进行求和产生一个只有一个元素的张量"
   ]
  },
  {
   "cell_type": "code",
   "execution_count": 5,
   "id": "017df8a7",
   "metadata": {},
   "outputs": [
    {
     "data": {
      "text/plain": [
       "tensor(66.)"
      ]
     },
     "execution_count": 5,
     "metadata": {},
     "output_type": "execute_result"
    }
   ],
   "source": [
    "X.sum()"
   ]
  },
  {
   "cell_type": "markdown",
   "id": "be98bdd7",
   "metadata": {},
   "source": [
    "即使形状不同，我们仍然可以通过调用广播机制（broadcasting mechanism）来执行按元素操作。"
   ]
  },
  {
   "cell_type": "code",
   "execution_count": 9,
   "id": "88af82c0",
   "metadata": {},
   "outputs": [
    {
     "data": {
      "text/plain": [
       "(tensor([[0],\n",
       "         [1],\n",
       "         [2]]),\n",
       " tensor([[0, 1]]))"
      ]
     },
     "execution_count": 9,
     "metadata": {},
     "output_type": "execute_result"
    }
   ],
   "source": [
    "a = torch.arange(3).reshape((3, 1))\n",
    "b = torch.arange(2).reshape((1, 2))\n",
    "a, b"
   ]
  },
  {
   "cell_type": "code",
   "execution_count": 8,
   "id": "68f53b3e",
   "metadata": {},
   "outputs": [
    {
     "data": {
      "text/plain": [
       "tensor([[0, 1],\n",
       "        [1, 2],\n",
       "        [2, 3]])"
      ]
     },
     "execution_count": 8,
     "metadata": {},
     "output_type": "execute_result"
    }
   ],
   "source": [
    "a + b"
   ]
  },
  {
   "cell_type": "markdown",
   "id": "6fc7aa91",
   "metadata": {},
   "source": [
    "### 1.4 元素的访问\n",
    "\n",
    "可以使用`[-1]`选择最后一个元素，可以用`[1:3]`选择第二个和第三个元素（注意，第一个索引是0）"
   ]
  },
  {
   "cell_type": "code",
   "execution_count": 10,
   "id": "f94e43f9",
   "metadata": {},
   "outputs": [
    {
     "data": {
      "text/plain": [
       "(tensor([ 8.,  9., 10., 11.]),\n",
       " tensor([[ 4.,  5.,  6.,  7.],\n",
       "         [ 8.,  9., 10., 11.]]))"
      ]
     },
     "execution_count": 10,
     "metadata": {},
     "output_type": "execute_result"
    }
   ],
   "source": [
    "X[-1], X[1:3]"
   ]
  },
  {
   "cell_type": "markdown",
   "id": "cecf68f0",
   "metadata": {},
   "source": [
    "除此之外，我们还可以指定索引来将元素写入矩阵"
   ]
  },
  {
   "cell_type": "code",
   "execution_count": 11,
   "id": "ce59fe4f",
   "metadata": {},
   "outputs": [
    {
     "data": {
      "text/plain": [
       "tensor([[ 0.,  1.,  2.,  3.],\n",
       "        [ 4.,  5.,  9.,  7.],\n",
       "        [ 8.,  9., 10., 11.]])"
      ]
     },
     "execution_count": 11,
     "metadata": {},
     "output_type": "execute_result"
    }
   ],
   "source": [
    "X[1, 2] = 9\n",
    "X"
   ]
  },
  {
   "cell_type": "markdown",
   "id": "3d525725",
   "metadata": {},
   "source": [
    "为多个元素赋相同的值    "
   ]
  },
  {
   "cell_type": "code",
   "execution_count": 12,
   "id": "9d47b115",
   "metadata": {},
   "outputs": [
    {
     "data": {
      "text/plain": [
       "tensor([[12., 12., 12., 12.],\n",
       "        [12., 12., 12., 12.],\n",
       "        [ 8.,  9., 10., 11.]])"
      ]
     },
     "execution_count": 12,
     "metadata": {},
     "output_type": "execute_result"
    }
   ],
   "source": [
    "X[0:2, :] = 12\n",
    "X"
   ]
  },
  {
   "cell_type": "markdown",
   "id": "ea4559e8",
   "metadata": {},
   "source": [
    "运行一些操作可能会导致为新结果分配的内存，如下示例代码"
   ]
  },
  {
   "cell_type": "code",
   "execution_count": 13,
   "id": "40fa731d",
   "metadata": {},
   "outputs": [
    {
     "data": {
      "text/plain": [
       "False"
      ]
     },
     "execution_count": 13,
     "metadata": {},
     "output_type": "execute_result"
    }
   ],
   "source": [
    "# 先存储 Y 的内存地址\n",
    "before = id(Y)\n",
    "# 再给变量 Y 赋值\n",
    "Y = Y + X\n",
    "# 检测变量 Y 的最新地址是否等于之前的地址\n",
    "id(Y) == before"
   ]
  },
  {
   "cell_type": "markdown",
   "id": "050f0c74",
   "metadata": {},
   "source": [
    "在Python中，原地操作是指在不创建新对象的情况下，直接修改原始对象的值或状态。这意味着在原地操作之后，原始对象的值会被修改，而不是创建一个新的对象。以下代码执行原地操作"
   ]
  },
  {
   "cell_type": "code",
   "execution_count": 14,
   "id": "c5720afc",
   "metadata": {},
   "outputs": [
    {
     "name": "stdout",
     "output_type": "stream",
     "text": [
      "id(Z) 140366506858672\n",
      "id(Z) 140366506858672\n"
     ]
    }
   ],
   "source": [
    "# 下一行代码可实现，Z的元素和数据类型和Y一样，但是都是0\n",
    "Z = torch.zeros_like(Y)\n",
    "print('id(Z)', id(Z))\n",
    "# 原地操作\n",
    "Z[:] = X + Y\n",
    "print('id(Z)', id(Z))"
   ]
  },
  {
   "cell_type": "markdown",
   "id": "5c62f548",
   "metadata": {},
   "source": [
    "如果在后续的计算中没有重复使用`X`，我们也可以使用`X[:] = X + Y`或`X += Y`来减少操作内存的开销。"
   ]
  },
  {
   "cell_type": "code",
   "execution_count": 15,
   "id": "121128c0",
   "metadata": {},
   "outputs": [
    {
     "data": {
      "text/plain": [
       "True"
      ]
     },
     "execution_count": 15,
     "metadata": {},
     "output_type": "execute_result"
    }
   ],
   "source": [
    "before = id(X)\n",
    "X += Y\n",
    "id(X) == before"
   ]
  },
  {
   "cell_type": "markdown",
   "id": "84e01a65",
   "metadata": {},
   "source": [
    "Numpy是python里最常见的多元数组运算框架，可以将Pytorch的张量转为Numpy张量"
   ]
  },
  {
   "cell_type": "code",
   "execution_count": 16,
   "id": "2f10ec8d",
   "metadata": {},
   "outputs": [
    {
     "data": {
      "text/plain": [
       "(numpy.ndarray, torch.Tensor)"
      ]
     },
     "execution_count": 16,
     "metadata": {},
     "output_type": "execute_result"
    }
   ],
   "source": [
    "A = X.numpy()\n",
    "B = torch.tensor(A)\n",
    "type(A), type(B)"
   ]
  },
  {
   "cell_type": "markdown",
   "id": "b7dd1d13",
   "metadata": {},
   "source": [
    "可以将大小为1的张量转换为 Python 标量"
   ]
  },
  {
   "cell_type": "code",
   "execution_count": 17,
   "id": "380863ca",
   "metadata": {},
   "outputs": [
    {
     "data": {
      "text/plain": [
       "(tensor([3.5000]), 3.5, 3.5, 3)"
      ]
     },
     "execution_count": 17,
     "metadata": {},
     "output_type": "execute_result"
    }
   ],
   "source": [
    "a = torch.tensor([3.5])\n",
    "a, a.item(), float(a), int(a)"
   ]
  },
  {
   "cell_type": "markdown",
   "id": "78271a73",
   "metadata": {},
   "source": [
    "## 二、数据预处理实现\n",
    "\n",
    "数据预处理是指在将数据应用于机器学习或数据分析模型之前，对原始数据进行清洗、转换和规范化的过程。后续可通过机器学习的方法能够处理数据。\n",
    "\n",
    "示例：我们先创建一个简单的人工数据集，并使用csv文件中，如下代码"
   ]
  },
  {
   "cell_type": "code",
   "execution_count": 18,
   "id": "36f7739f",
   "metadata": {},
   "outputs": [],
   "source": [
    "import os\n",
    "\n",
    "os.makedirs(os.path.join('..', 'data'), exist_ok=True)\n",
    "data_file = os.path.join('..', 'data', 'house_tiny.csv')\n",
    "with open(data_file, 'w') as f:\n",
    "    f.write('NumRooms,Alley,Price\\n') # 列名\n",
    "    f.write('NA,Pave,127500\\n') # 每一行表示一个样本\n",
    "    f.write('2,NA,106000\\n')\n",
    "    f.write('4,NA,178100\\n')\n",
    "    f.write('NA,NA,140000\\n')"
   ]
  },
  {
   "cell_type": "markdown",
   "id": "94a9d548",
   "metadata": {},
   "source": [
    "从创建的csv文件中夹在原始数据集"
   ]
  },
  {
   "cell_type": "code",
   "execution_count": 19,
   "id": "1703364d",
   "metadata": {},
   "outputs": [
    {
     "name": "stdout",
     "output_type": "stream",
     "text": [
      "   NumRooms Alley   Price\n",
      "0       NaN  Pave  127500\n",
      "1       2.0   NaN  106000\n",
      "2       4.0   NaN  178100\n",
      "3       NaN   NaN  140000\n"
     ]
    }
   ],
   "source": [
    "# 如果没有安装pandas，只需取消对以下行的注视：\n",
    "# !pip install pandas\n",
    "import pandas as pd\n",
    "\n",
    "data = pd.read_csv(data_file)\n",
    "print(data)"
   ]
  },
  {
   "cell_type": "markdown",
   "id": "aa16afc7",
   "metadata": {},
   "source": [
    "为了处理缺失的数据，典型的方法包括插值和删除，这里，我们将考虑插值。在这里我们先不做预测，我们先使用简单的方法把缺失的数据补起来，如下示例"
   ]
  },
  {
   "cell_type": "code",
   "execution_count": 20,
   "id": "4d8e7f95",
   "metadata": {},
   "outputs": [
    {
     "name": "stdout",
     "output_type": "stream",
     "text": [
      "   NumRooms Alley\n",
      "0       3.0  Pave\n",
      "1       2.0   NaN\n",
      "2       4.0   NaN\n",
      "3       3.0   NaN\n"
     ]
    }
   ],
   "source": [
    "# 将数据的前两列作为输入变量，第三列作为输出变量，存储在inputs和outputs变量中\n",
    "inputs, outputs = data.iloc[:, 0:2], data.iloc[:, 2]\n",
    "# fillna()函数将数据中的缺失值替换为指定的值，这里使用inputs的均值作为替换值。\n",
    "inputs = inputs.fillna(inputs.mean())\n",
    "print(inputs)"
   ]
  },
  {
   "cell_type": "markdown",
   "id": "0f8c8d8c",
   "metadata": {},
   "source": [
    "对于`inputs`中的类别值或离散值，我们将“NaN”这类非数值类数据，可以视为一个类别。\n",
    "\n",
    "独热编码是一种将离散型特征转换为二进制向量的方法，将每个离散值转换为一个新的二进制特征列。dummy_na=True参数表示对缺失值也进行独热编码，并生成一个额外的特征列来表示缺失值。以下代码的功能是对输入数据进行独热编码"
   ]
  },
  {
   "cell_type": "code",
   "execution_count": 21,
   "id": "10df6bf7",
   "metadata": {},
   "outputs": [
    {
     "name": "stdout",
     "output_type": "stream",
     "text": [
      "   NumRooms  Alley_Pave  Alley_nan\n",
      "0       3.0           1          0\n",
      "1       2.0           0          1\n",
      "2       4.0           0          1\n",
      "3       3.0           0          1\n"
     ]
    }
   ],
   "source": [
    "inputs = pd.get_dummies(inputs, dummy_na=True)\n",
    "print(inputs)"
   ]
  },
  {
   "cell_type": "markdown",
   "id": "29fb12b8",
   "metadata": {},
   "source": [
    "现在`inputs`和`outputs`中所有的条目都是数值类型，他们可以相互转换为张量格式"
   ]
  },
  {
   "cell_type": "code",
   "execution_count": 22,
   "id": "4eb2ec81",
   "metadata": {},
   "outputs": [
    {
     "data": {
      "text/plain": [
       "(tensor([[3., 1., 0.],\n",
       "         [2., 0., 1.],\n",
       "         [4., 0., 1.],\n",
       "         [3., 0., 1.]], dtype=torch.float64),\n",
       " tensor([127500, 106000, 178100, 140000]))"
      ]
     },
     "execution_count": 22,
     "metadata": {},
     "output_type": "execute_result"
    }
   ],
   "source": [
    "import torch\n",
    "\n",
    "X, y = torch.tensor(inputs.values), torch.tensor(outputs.values)\n",
    "X, y"
   ]
  },
  {
   "cell_type": "markdown",
   "id": "bf052ae1",
   "metadata": {},
   "source": [
    "`torch.float64`是pytorch的64位浮点数类型，传统情况下，python一般会默认使用64位浮点数。但是64位浮点数技术速度较慢，对深度学习来说，我们通常使用32位浮点数。\n",
    "\n",
    "以上就是一个简单的示例，演示了如何将原始数据导入系统中，并将其转换为张量的过程。·"
   ]
  }
 ],
 "metadata": {
  "kernelspec": {
   "display_name": "Python 3 (ipykernel)",
   "language": "python",
   "name": "python3"
  },
  "language_info": {
   "codemirror_mode": {
    "name": "ipython",
    "version": 3
   },
   "file_extension": ".py",
   "mimetype": "text/x-python",
   "name": "python",
   "nbconvert_exporter": "python",
   "pygments_lexer": "ipython3",
   "version": "3.9.17"
  }
 },
 "nbformat": 4,
 "nbformat_minor": 5
}
