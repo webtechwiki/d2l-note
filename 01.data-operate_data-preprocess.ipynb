{
 "cells": [
  {
   "cell_type": "markdown",
   "id": "07ec75bb",
   "metadata": {},
   "source": [
    "## 一、什么是张量\n",
    "张量（tensor）是PyTorch中的基本数据结构，它是一个多维数组。张量可以是向量（一维）、矩阵（二维）或更高维度的数组。在PyTorch中，张量可以用来表示和处理各种数据，包括图像、文本、声音等。在代码中，x是一个向量，也是一个张量。\n",
    "\n",
    "## 二、张量的创建"
   ]
  },
  {
   "cell_type": "code",
   "execution_count": null,
   "id": "cedad9ac",
   "metadata": {},
   "outputs": [],
   "source": [
    "# 导入torch\n",
    "import torch\n",
    "# 创建一个向量，在PyTorch中，向量是一维的张量\n",
    "x = torch.arange(12)\n",
    "# 访问创建的向量\n",
    "x"
   ]
  },
  {
   "cell_type": "code",
   "execution_count": 5,
   "id": "9446583e",
   "metadata": {},
   "outputs": [
    {
     "data": {
      "text/plain": [
       "torch.Size([12])"
      ]
     },
     "execution_count": 5,
     "metadata": {},
     "output_type": "execute_result"
    }
   ],
   "source": [
    "# 使用shape属性来访问张量的形状\n",
    "x.shape"
   ]
  },
  {
   "cell_type": "code",
   "execution_count": 6,
   "id": "24c86a56",
   "metadata": {},
   "outputs": [
    {
     "data": {
      "text/plain": [
       "12"
      ]
     },
     "execution_count": 6,
     "metadata": {},
     "output_type": "execute_result"
    }
   ],
   "source": [
    "# 使用numel()函数查看张量的元素总个数\n",
    "x.numel()"
   ]
  },
  {
   "cell_type": "markdown",
   "id": "6e992ffc",
   "metadata": {},
   "source": [
    "要改变张量的形状而不改变其元素数量和元素值，可以调用reshape函数"
   ]
  },
  {
   "cell_type": "code",
   "execution_count": 7,
   "id": "51a74d39",
   "metadata": {},
   "outputs": [
    {
     "data": {
      "text/plain": [
       "tensor([[ 0,  1,  2,  3],\n",
       "        [ 4,  5,  6,  7],\n",
       "        [ 8,  9, 10, 11]])"
      ]
     },
     "execution_count": 7,
     "metadata": {},
     "output_type": "execute_result"
    }
   ],
   "source": [
    "# 改变为3行4列的矩阵\n",
    "x.reshape(3, 4)"
   ]
  },
  {
   "cell_type": "code",
   "execution_count": 12,
   "id": "b2497282",
   "metadata": {},
   "outputs": [
    {
     "data": {
      "text/plain": [
       "tensor([[[0., 0., 0., 0.],\n",
       "         [0., 0., 0., 0.],\n",
       "         [0., 0., 0., 0.]],\n",
       "\n",
       "        [[0., 0., 0., 0.],\n",
       "         [0., 0., 0., 0.],\n",
       "         [0., 0., 0., 0.]]])"
      ]
     },
     "execution_count": 12,
     "metadata": {},
     "output_type": "execute_result"
    }
   ],
   "source": [
    "# 创建元素为全0的三维张量，其中第一个维度的大小为2，第二个维度的大小为3，第三个维度的大小为4。\n",
    "torch.zeros((2, 3, 4))"
   ]
  },
  {
   "cell_type": "code",
   "execution_count": 11,
   "id": "e178bb64",
   "metadata": {},
   "outputs": [
    {
     "data": {
      "text/plain": [
       "tensor([[[1., 1., 1., 1.],\n",
       "         [1., 1., 1., 1.],\n",
       "         [1., 1., 1., 1.]],\n",
       "\n",
       "        [[1., 1., 1., 1.],\n",
       "         [1., 1., 1., 1.],\n",
       "         [1., 1., 1., 1.]]])"
      ]
     },
     "execution_count": 11,
     "metadata": {},
     "output_type": "execute_result"
    }
   ],
   "source": [
    "# 也可以创建元素为全1的三维张量\n",
    "torch.ones((2, 3, 4))"
   ]
  },
  {
   "cell_type": "code",
   "execution_count": 14,
   "id": "1dbdb4a5",
   "metadata": {},
   "outputs": [
    {
     "data": {
      "text/plain": [
       "tensor([[2, 1, 4, 3],\n",
       "        [1, 2, 3, 4],\n",
       "        [4, 3, 2, 1]])"
      ]
     },
     "execution_count": 14,
     "metadata": {},
     "output_type": "execute_result"
    }
   ],
   "source": [
    "# 创建一个包含指定值的二维张量\n",
    "torch.tensor([[2, 1, 4, 3], [1, 2, 3, 4], [4, 3, 2, 1]])"
   ]
  },
  {
   "cell_type": "code",
   "execution_count": 15,
   "id": "96634d8d",
   "metadata": {},
   "outputs": [
    {
     "data": {
      "text/plain": [
       "tensor([[[2, 1, 4, 3],\n",
       "         [1, 2, 3, 4],\n",
       "         [4, 3, 2, 1]]])"
      ]
     },
     "execution_count": 15,
     "metadata": {},
     "output_type": "execute_result"
    }
   ],
   "source": [
    "# 创建一个包含指定值的三维张量\n",
    "torch.tensor([[[2, 1, 4, 3], [1, 2, 3, 4], [4, 3, 2, 1]]])"
   ]
  },
  {
   "cell_type": "code",
   "execution_count": 16,
   "id": "8ad87629",
   "metadata": {},
   "outputs": [
    {
     "data": {
      "text/plain": [
       "torch.Size([1, 3, 4])"
      ]
     },
     "execution_count": 16,
     "metadata": {},
     "output_type": "execute_result"
    }
   ],
   "source": [
    "# 查看该三维张量的形状，其中第一个维度的大小为1，第二个维度的大小为3，第三个维度的大小为4。\n",
    "torch.tensor([[[2, 1, 4, 3], [1, 2, 3, 4], [4, 3, 2, 1]]]).shape"
   ]
  },
  {
   "cell_type": "markdown",
   "id": "43e5706d",
   "metadata": {},
   "source": [
    "## 三、张量的计算"
   ]
  },
  {
   "cell_type": "code",
   "execution_count": null,
   "id": "d99d9062",
   "metadata": {},
   "outputs": [],
   "source": []
  }
 ],
 "metadata": {
  "kernelspec": {
   "display_name": "Python 3 (ipykernel)",
   "language": "python",
   "name": "python3"
  },
  "language_info": {
   "codemirror_mode": {
    "name": "ipython",
    "version": 3
   },
   "file_extension": ".py",
   "mimetype": "text/x-python",
   "name": "python",
   "nbconvert_exporter": "python",
   "pygments_lexer": "ipython3",
   "version": "3.9.17"
  }
 },
 "nbformat": 4,
 "nbformat_minor": 5
}
